{
  "nbformat": 4,
  "nbformat_minor": 0,
  "metadata": {
    "colab": {
      "provenance": [],
      "authorship_tag": "ABX9TyP5QUKy+f4aDRkr6FWP427t",
      "include_colab_link": true
    },
    "kernelspec": {
      "name": "python3",
      "display_name": "Python 3"
    },
    "language_info": {
      "name": "python"
    }
  },
  "cells": [
    {
      "cell_type": "markdown",
      "metadata": {
        "id": "view-in-github",
        "colab_type": "text"
      },
      "source": [
        "<a href=\"https://colab.research.google.com/github/Fathimahaneenate/dsm/blob/main/Untitled5.ipynb\" target=\"_parent\"><img src=\"https://colab.research.google.com/assets/colab-badge.svg\" alt=\"Open In Colab\"/></a>"
      ]
    },
    {
      "cell_type": "code",
      "execution_count": null,
      "metadata": {
        "colab": {
          "base_uri": "https://localhost:8080/"
        },
        "id": "iRO_19YuhjDY",
        "outputId": "37870ed9-6750-4e2d-90b5-ef0382780a05"
      },
      "outputs": [
        {
          "output_type": "stream",
          "name": "stdout",
          "text": [
            "BASIC CALCULATOR\n",
            "1.ADDITION\n",
            "2.SUBTRACTION\n",
            "3.MULTIPLICATION\n",
            "4.DIVISION\n",
            "5.EXIT\n"
          ]
        }
      ],
      "source": [
        "print(\"BASIC CALCULATOR\")\n",
        "print(\"1.ADDITION\\n2.SUBTRACTION\\n3.MULTIPLICATION\\n4.DIVISION\\n5.EXIT\")\n",
        "n1=int(input(\"Enter first number:\"))\n",
        "n2=int(input(\"Enter second number:\"))\n",
        "i=1\n",
        "while i<=5:\n",
        "  ch=int(input(\"Choose option:\"))\n",
        "  if ch==1:\n",
        "    print(\"Sum:\", n1+n2)\n",
        "  elif ch==2:\n",
        "    print(\"Difference:\",n1-n2)\n",
        "  elif ch==3:\n",
        "    print(\"Product:\", n1*n2)\n",
        "  elif ch==4:\n",
        "    print(\"Quotient:\", n1/n2)\n",
        "  else:\n",
        "    break\n"
      ]
    }
  ]
}